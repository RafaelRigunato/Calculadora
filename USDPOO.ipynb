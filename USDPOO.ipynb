{
 "cells": [
  {
   "cell_type": "code",
   "execution_count": 1,
   "id": "f0018674",
   "metadata": {},
   "outputs": [
    {
     "name": "stdout",
     "output_type": "stream",
     "text": [
      "Digite a taxa oferecida: 5.0789\n",
      "a taxa coletada e: 5.0342\n",
      "a taxa oferecida e: 5.0789\n",
      "O Spread e: 0.04469999999999974\n",
      "pode fechar\n"
     ]
    }
   ],
   "source": [
    "import requests\n",
    "\n",
    "def cotadora():\n",
    "    url = \"http://economia.awesomeapi.com.br/json/last/USD-BRL\"\n",
    "    taxa_cal = requests.get(url).json()\n",
    "    ask_value = float(taxa_cal.get('USDBRL', {}).get('ask'))\n",
    "    return ask_value\n",
    "\n",
    "trashold = float(0.20)\n",
    "taxa_oferecida = float(input(\"Digite a taxa oferecida: \"))\n",
    "taxa_coletada = cotadora()\n",
    "\n",
    "resultado = taxa_oferecida - taxa_coletada\n",
    "\n",
    "print(\"a taxa coletada e:\", taxa_coletada)\n",
    "print(\"a taxa oferecida e:\", taxa_oferecida)\n",
    "print(\"O Spread e:\", resultado)\n",
    "\n",
    "if resultado > trashold:\n",
    "    print(\"Nao fecha\")\n",
    "    \n",
    "else:\n",
    "    print(\"pode fechar\")\n",
    "    \n",
    "\n",
    "\n"
   ]
  },
  {
   "cell_type": "code",
   "execution_count": null,
   "id": "d3a53670",
   "metadata": {},
   "outputs": [],
   "source": []
  },
  {
   "cell_type": "code",
   "execution_count": null,
   "id": "661fd287",
   "metadata": {},
   "outputs": [],
   "source": []
  },
  {
   "cell_type": "code",
   "execution_count": null,
   "id": "5e226937",
   "metadata": {},
   "outputs": [],
   "source": []
  },
  {
   "cell_type": "code",
   "execution_count": null,
   "id": "6d7f7849",
   "metadata": {},
   "outputs": [],
   "source": []
  }
 ],
 "metadata": {
  "kernelspec": {
   "display_name": "Python 3 (ipykernel)",
   "language": "python",
   "name": "python3"
  },
  "language_info": {
   "codemirror_mode": {
    "name": "ipython",
    "version": 3
   },
   "file_extension": ".py",
   "mimetype": "text/x-python",
   "name": "python",
   "nbconvert_exporter": "python",
   "pygments_lexer": "ipython3",
   "version": "3.10.9"
  }
 },
 "nbformat": 4,
 "nbformat_minor": 5
}
